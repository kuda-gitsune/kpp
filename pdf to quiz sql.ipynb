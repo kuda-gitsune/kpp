{
 "cells": [
  {
   "cell_type": "code",
   "execution_count": 1,
   "metadata": {},
   "outputs": [],
   "source": [
    "import re\n",
    "from typing import List, Union\n",
    "\n",
    "import pdfplumber\n",
    "import pandas as pd"
   ]
  },
  {
   "cell_type": "code",
   "execution_count": 2,
   "metadata": {},
   "outputs": [],
   "source": [
    "from itertools import accumulate\n",
    "\n",
    "# Compile the regex patterns for reuse, which is more efficient than recompiling them every function call\n",
    "question_pattern = re.compile(r'^Nr\\.{0,1} \\d{1,3}\\.')\n",
    "answer_pattern = re.compile(r'^[A-E]\\.{0,1}\\W')\n",
    "\n",
    "def find_line_type(text: str) -> Union[str, None]:\n",
    "    \"\"\"Identify the type of line from the given text.\n",
    "    \n",
    "    This function checks if a line of text is a question`s or an answer`s beginning based on regex patterns.\n",
    "    \n",
    "    Args:\n",
    "        text (str): A line of text to be checked.\n",
    "        \n",
    "    Returns:\n",
    "        Union[str, None]: 'Q' if a start of question, an answer letter ('A'-'E') if an answer`s beginning, or None otherwise.\n",
    "    \"\"\"\n",
    "    # Check if the line is a question\n",
    "    if question_pattern.match(text):\n",
    "        return 'Q'\n",
    "    # Check if the line is an answer\n",
    "    match = answer_pattern.match(text)\n",
    "    if match:\n",
    "        return match.group(0)[0]\n",
    "    return None\n",
    "\n",
    "def accumulate_Q(tag_list: List[Union[str, None]]) -> List[int]:\n",
    "    \"\"\"Accumulate the number of questions in a list of tags.\n",
    "    \n",
    "    This function accumulates the count of 'Q' tags in the list, effectively giving the number of questions\n",
    "    up to each point in the list.\n",
    "    \n",
    "    Args:\n",
    "        tag_list (List[Union[str, None]]): A list of tags where 'Q' represents a question.\n",
    "        \n",
    "    Returns:\n",
    "        List[int]: A list of integers representing the accumulated count of questions.\n",
    "\n",
    "    Examples:\n",
    "        >>> tags = ['Q', None, 'A', 'Q', 'B']\n",
    "        >>> accumulate_Q(tags)\n",
    "        [1, 1, 1, 2, 2]\n",
    "    \"\"\"\n",
    "        \n",
    "    # Use a generator expression to optimize the accumulation process\n",
    "    return list(accumulate(1 if tag == 'Q' else 0 for tag in tag_list))"
   ]
  },
  {
   "cell_type": "code",
   "execution_count": 3,
   "metadata": {},
   "outputs": [],
   "source": [
    "\n",
    "lines = []\n",
    "with pdfplumber.open('..\\examples\\quest.pdf') as pdf:\n",
    "        for page in pdf.pages:\n",
    "            text = page.extract_text_lines(layout=False, strip=True, return_chars=True)\n",
    "            if text:\n",
    "                lines.extend(text)\n",
    "\n",
    "df = pd.DataFrame.from_dict(lines)"
   ]
  },
  {
   "cell_type": "code",
   "execution_count": 4,
   "metadata": {},
   "outputs": [],
   "source": [
    "from collections import defaultdict\n",
    "\n",
    "#Add tag of type [Q, A, B, C, D, E] for every line \n",
    "tag_list = df['tag'] = df['text'].map(find_line_type).to_list()\n",
    "\n",
    "#Add parent question`s number\n",
    "question_index = accumulate_Q(tag_list)\n",
    "df['question_nr'] = pd.Series(question_index)\n",
    "\n",
    "#Groupe lines into questions\n",
    "grouped_lines = defaultdict(list)\n",
    "lines_list = df.to_dict('records')\n",
    "for index, line in zip(question_index, lines_list):\n",
    "    grouped_lines[index].append(line)\n"
   ]
  },
  {
   "cell_type": "code",
   "execution_count": 5,
   "metadata": {},
   "outputs": [
    {
     "data": {
      "text/plain": [
       "[452]"
      ]
     },
     "execution_count": 5,
     "metadata": {},
     "output_type": "execute_result"
    }
   ],
   "source": [
    "new_pattern = r'^[A-E]\\.{0,1}\\W'\n",
    "old_pattern = r'^[A-E]\\.'\n",
    "\n",
    "def find_pattern(pattern: str, text: str):\n",
    "    if results := re.findall(pattern, text):\n",
    "        return results[0][0]\n",
    "\n",
    "diff_methods= [\n",
    "    i \n",
    "    for i, x in enumerate(df['text'])\n",
    "    if find_pattern(new_pattern, x) != find_pattern(old_pattern, x)\n",
    "]\n",
    "diff_methods"
   ]
  },
  {
   "cell_type": "code",
   "execution_count": 6,
   "metadata": {},
   "outputs": [],
   "source": [
    "#Removing first line which is a document title\n",
    "df = df.iloc[1:, :]"
   ]
  },
  {
   "cell_type": "code",
   "execution_count": 7,
   "metadata": {},
   "outputs": [],
   "source": [
    "#Questions with answers in one line do not have tag B\n",
    "questions_with_tag_b = set(df[df['tag'] == 'B']['question_nr'].tolist())\n",
    "\n",
    "#Finding numbers of questions with answers in one line.\n",
    "last_question_number = df['question_nr'].iloc[-1]\n",
    "all_questions = set(range(1, last_question_number))\n",
    "oneline_answers_q_nr = all_questions - questions_with_tag_b"
   ]
  },
  {
   "cell_type": "code",
   "execution_count": 8,
   "metadata": {},
   "outputs": [
    {
     "data": {
      "text/plain": [
       "set()"
      ]
     },
     "execution_count": 8,
     "metadata": {},
     "output_type": "execute_result"
    }
   ],
   "source": [
    "oneline_rows = df[(df['question_nr'].isin(oneline_answers_q_nr)) & (df['tag'] == 'A')]\n",
    "\n",
    "#Is there any oneliner without tag A?\n",
    "oneline_answers_q_nr -  set(oneline_rows['question_nr'].unique())"
   ]
  },
  {
   "cell_type": "code",
   "execution_count": 9,
   "metadata": {},
   "outputs": [],
   "source": [
    "oneline_chars = []\n",
    "for _, line in oneline_rows.iterrows():\n",
    "    line_dict = line.to_dict()\n",
    "    chars = line_dict['chars']\n",
    "    new_char = [{**x, 'q_nr': line_dict['question_nr']} for x in chars]\n",
    "    oneline_chars.extend(new_char)\n"
   ]
  },
  {
   "cell_type": "code",
   "execution_count": 35,
   "metadata": {},
   "outputs": [
    {
     "data": {
      "text/plain": [
       "{'ABCDEE+Calibri', 'ABCDEE+Calibri,Bold', 'ABCDEE+Calibri,Italic'}"
      ]
     },
     "execution_count": 35,
     "metadata": {},
     "output_type": "execute_result"
    }
   ],
   "source": [
    "posible_fonts = {x['fontname'] for x in oneline_chars}\n",
    "posible_fonts"
   ]
  },
  {
   "cell_type": "code",
   "execution_count": 11,
   "metadata": {},
   "outputs": [
    {
     "data": {
      "text/plain": [
       "(26, 26)"
      ]
     },
     "execution_count": 11,
     "metadata": {},
     "output_type": "execute_result"
    }
   ],
   "source": [
    "indices_of_bold = [\n",
    "    y['text'] \n",
    "    for x, y in zip(oneline_chars, oneline_chars[1:]) \n",
    "    if x['fontname'] == 'ABCDEE+Calibri' and y['fontname'] == 'ABCDEE+Calibri,Bold'\n",
    "]\n",
    "#Every oneliner has at last one bolded char\n",
    "len(indices_of_bold), len(oneline_answers_q_nr)"
   ]
  },
  {
   "cell_type": "code",
   "execution_count": 12,
   "metadata": {},
   "outputs": [],
   "source": [
    "oneliners = df[(df['question_nr'].isin(oneline_rows['question_nr'])) & (df['tag'] == 'A' )]"
   ]
  },
  {
   "cell_type": "code",
   "execution_count": 13,
   "metadata": {},
   "outputs": [],
   "source": [
    "def test_onliner_pattern(text: str):\n",
    "    answer_pattern_oneliner = re.compile(r'[A-E]\\.{0,1}\\W')\n",
    "    return len(re.findall(answer_pattern_oneliner, text))\n",
    "\n",
    "def split_oneliner_indices(text: str):\n",
    "    answer_pattern_oneliner = re.compile(r'[A-E]\\.{0,1}\\W')\n",
    "    return [match.start() for match in re.finditer(answer_pattern_oneliner, text)] + [len(text) - 1]"
   ]
  },
  {
   "cell_type": "code",
   "execution_count": 14,
   "metadata": {},
   "outputs": [
    {
     "data": {
      "text/plain": [
       "array([5], dtype=int64)"
      ]
     },
     "execution_count": 14,
     "metadata": {},
     "output_type": "execute_result"
    }
   ],
   "source": [
    "oneliners['text'].map(test_onliner_pattern).unique()"
   ]
  },
  {
   "cell_type": "code",
   "execution_count": 15,
   "metadata": {},
   "outputs": [],
   "source": [
    "def split_oneliner_text(text: str):\n",
    "    def split_oneliner_indices(text: str):\n",
    "        answer_pattern_oneliner = re.compile(r'[A-E]\\.{0,1}\\W')\n",
    "        return [match.start() for match in re.finditer(answer_pattern_oneliner, text)] + [len(text) - 1]\n",
    "    \n",
    "    indices = split_oneliner_indices(text)\n",
    "    return [text[s:e] for s, e in zip(indices[:-1], indices[1:])]"
   ]
  },
  {
   "cell_type": "code",
   "execution_count": 16,
   "metadata": {},
   "outputs": [
    {
     "data": {
      "text/plain": [
       "['A. 5,4. ', 'B. 3,2,4,1. ', 'C. 3,4,5. ']"
      ]
     },
     "execution_count": 16,
     "metadata": {},
     "output_type": "execute_result"
    }
   ],
   "source": [
    "splited_onliners_text =  oneliners['text'].map(split_oneliner_text)\n",
    "splited_onliners_text.to_list()[0][:3]"
   ]
  },
  {
   "cell_type": "code",
   "execution_count": 17,
   "metadata": {},
   "outputs": [],
   "source": [
    "def is_bold(chars):\n",
    "    '''\n",
    "    Return True if at last one char is bolded\n",
    "    '''\n",
    "    return any((True for x in chars if x['fontname'] == 'ABCDEE+Calibri,Bold'))"
   ]
  },
  {
   "cell_type": "code",
   "execution_count": 18,
   "metadata": {},
   "outputs": [
    {
     "data": {
      "text/plain": [
       "251"
      ]
     },
     "execution_count": 18,
     "metadata": {},
     "output_type": "execute_result"
    }
   ],
   "source": [
    "df_test = df.copy(True)\n",
    "df_test['is_bold'] = df_test['chars'].map(is_bold)\n",
    "len(df_test[df_test['is_bold'] & df_test['tag'].isin(['A','B','C','D','E'])])\n",
    "# There is a problem, because question 58 has bolded chars in two answers"
   ]
  },
  {
   "cell_type": "code",
   "execution_count": 19,
   "metadata": {},
   "outputs": [],
   "source": [
    "from collections import Counter\n",
    "from icecream import ic\n",
    "\n",
    "nr_answer_counter = Counter()\n",
    "for _, r in df_test.iterrows():\n",
    "    if r['tag'] in ['A','B','C','D','E'] and r['is_bold'] == True:\n",
    "        nr_answer_counter[r['question_nr']] += 1"
   ]
  },
  {
   "cell_type": "markdown",
   "metadata": {},
   "source": [
    "Find true answer in oneliner. "
   ]
  },
  {
   "cell_type": "code",
   "execution_count": 20,
   "metadata": {},
   "outputs": [],
   "source": [
    "def find_onliner_answer(chars):\n",
    "    def split_chars(chars):\n",
    "        letters = ['A', 'B', 'C', 'D', 'E']\n",
    "        split_indices =[index for index, char in enumerate(chars) if char['text'] in letters]\n",
    "        return split_indices + [len(chars)]\n",
    "    \n",
    "    split_indices = split_chars(chars)\n",
    "\n",
    "    for option, split_index in enumerate(split_indices):\n",
    "        if not is_bold(chars[split_index:]):\n",
    "            return option - 1\n",
    "        \n",
    "    return 'Not found'\n",
    "    "
   ]
  },
  {
   "cell_type": "code",
   "execution_count": 21,
   "metadata": {},
   "outputs": [],
   "source": [
    "test_onliner_chars =  oneliners['chars'].to_list()"
   ]
  },
  {
   "cell_type": "code",
   "execution_count": 22,
   "metadata": {},
   "outputs": [],
   "source": [
    "oneliners_answers_test = [find_onliner_answer(chars) for chars in test_onliner_chars]\n",
    "index_2_letter = {index : letter for index, letter in  enumerate(['A', 'B', 'C', 'D', 'E'])}\n",
    "oneliners_answer_test_results = [index_2_letter[index] for index in oneliners_answers_test]"
   ]
  },
  {
   "cell_type": "markdown",
   "metadata": {},
   "source": [
    "Time to create database"
   ]
  },
  {
   "cell_type": "code",
   "execution_count": 23,
   "metadata": {},
   "outputs": [],
   "source": [
    "online_filter = df['question_nr'].isin(oneliners['question_nr'])\n",
    "df_onliners = df[online_filter]\n",
    "df_pure = df[~online_filter]"
   ]
  },
  {
   "cell_type": "code",
   "execution_count": 24,
   "metadata": {},
   "outputs": [
    {
     "data": {
      "text/plain": [
       "Index(['text', 'x0', 'top', 'x1', 'bottom', 'chars', 'tag', 'question_nr'], dtype='object')"
      ]
     },
     "execution_count": 24,
     "metadata": {},
     "output_type": "execute_result"
    }
   ],
   "source": [
    "df.columns"
   ]
  },
  {
   "cell_type": "code",
   "execution_count": 25,
   "metadata": {},
   "outputs": [],
   "source": [
    "from collections import defaultdict\n",
    "from typing import List, Union\n",
    "\n",
    "import pandera as pa\n",
    "from pandera.typing import DataFrame\n",
    "\n",
    "class LinesDataFrame(pa.DataFrameModel):\n",
    "    text: str\n",
    "    x0: float\n",
    "    top: float\n",
    "    x1: float\n",
    "    bottom: float\n",
    "    chars: List[any]\n",
    "    tag: Union[str, None]\n",
    "    question_nr: int\n",
    "\n"
   ]
  },
  {
   "cell_type": "code",
   "execution_count": 26,
   "metadata": {},
   "outputs": [],
   "source": [
    "def extract_questions(df: DataFrame[LinesDataFrame]) -> List[defaultdict]:\n",
    "    parsed_questions = []\n",
    "    curr_question = defaultdict(str)\n",
    "    curr_tag = None\n",
    "    curr_text = ''\n",
    "    question_number = 0\n",
    "\n",
    "    for _, row in list(df.iterrows()):\n",
    "        if row['tag'] == 'Q':\n",
    "            #Add unsaved text from previous question as option E\n",
    "            if curr_text:\n",
    "                curr_question['E'] = curr_text\n",
    "            if curr_question:\n",
    "                parsed_questions.append(curr_question)\n",
    "                curr_question = defaultdict(str)\n",
    "            curr_question['number'] = row['question_nr']\n",
    "\n",
    "        if tag :=  row['tag']:\n",
    "            if curr_text:\n",
    "                curr_question[curr_tag] = curr_text\n",
    "            curr_text = row['text']\n",
    "            curr_tag = tag\n",
    "            if is_bold(row['chars']) and row['tag'] in ['A', 'B', 'C', 'D', 'E']:\n",
    "                curr_question['answer'] += curr_tag\n",
    "        else:\n",
    "            curr_text = curr_text + '<br>' + row['text']\n",
    "\n",
    "    \n",
    "    curr_question['E'] = curr_text\n",
    "    parsed_questions.append(curr_question)\n",
    "    return parsed_questions"
   ]
  },
  {
   "cell_type": "code",
   "execution_count": 27,
   "metadata": {},
   "outputs": [],
   "source": [
    "extracted_pure = extract_questions(df_pure)\n",
    "listed_dicts = [[d['number'], d['Q'], d['A'], d['B'], d['C'], d['D'], d['E'], d['answer']] for d in extracted_pure]\n",
    "db_pure = pd.DataFrame(listed_dicts, columns=['nr', 'Q', 'A', 'B', 'C', 'D', 'E', 'answer'])"
   ]
  },
  {
   "cell_type": "code",
   "execution_count": 28,
   "metadata": {},
   "outputs": [
    {
     "data": {
      "text/html": [
       "<div>\n",
       "<style scoped>\n",
       "    .dataframe tbody tr th:only-of-type {\n",
       "        vertical-align: middle;\n",
       "    }\n",
       "\n",
       "    .dataframe tbody tr th {\n",
       "        vertical-align: top;\n",
       "    }\n",
       "\n",
       "    .dataframe thead th {\n",
       "        text-align: right;\n",
       "    }\n",
       "</style>\n",
       "<table border=\"1\" class=\"dataframe\">\n",
       "  <thead>\n",
       "    <tr style=\"text-align: right;\">\n",
       "      <th></th>\n",
       "      <th>0</th>\n",
       "      <th>1</th>\n",
       "    </tr>\n",
       "  </thead>\n",
       "  <tbody>\n",
       "    <tr>\n",
       "      <th>0</th>\n",
       "      <td>0</td>\n",
       "      <td>{'number': 1, 'Q': 'Nr 1. Jedną z przyczyn wst...</td>\n",
       "    </tr>\n",
       "    <tr>\n",
       "      <th>1</th>\n",
       "      <td>1</td>\n",
       "      <td>{'number': 2, 'E': 'E. Poprawne są C, D.', 'Q'...</td>\n",
       "    </tr>\n",
       "    <tr>\n",
       "      <th>2</th>\n",
       "      <td>2</td>\n",
       "      <td>{'number': 3, 'E': 'E. w pozycji półsiedzącej....</td>\n",
       "    </tr>\n",
       "    <tr>\n",
       "      <th>3</th>\n",
       "      <td>3</td>\n",
       "      <td>{'number': 4, 'E': 'E. żadne z wymienionych', ...</td>\n",
       "    </tr>\n",
       "    <tr>\n",
       "      <th>4</th>\n",
       "      <td>4</td>\n",
       "      <td>{'number': 5, 'E': 'E. prawdziwe są odpowiedzi...</td>\n",
       "    </tr>\n",
       "  </tbody>\n",
       "</table>\n",
       "</div>"
      ],
      "text/plain": [
       "   0                                                  1\n",
       "0  0  {'number': 1, 'Q': 'Nr 1. Jedną z przyczyn wst...\n",
       "1  1  {'number': 2, 'E': 'E. Poprawne są C, D.', 'Q'...\n",
       "2  2  {'number': 3, 'E': 'E. w pozycji półsiedzącej....\n",
       "3  3  {'number': 4, 'E': 'E. żadne z wymienionych', ...\n",
       "4  4  {'number': 5, 'E': 'E. prawdziwe są odpowiedzi..."
      ]
     },
     "execution_count": 28,
     "metadata": {},
     "output_type": "execute_result"
    }
   ],
   "source": [
    "pd.DataFrame.from_dict(enumerate(extract_questions(df_pure)[:5]))"
   ]
  },
  {
   "cell_type": "code",
   "execution_count": 29,
   "metadata": {},
   "outputs": [
    {
     "data": {
      "text/plain": [
       "224"
      ]
     },
     "execution_count": 29,
     "metadata": {},
     "output_type": "execute_result"
    }
   ],
   "source": [
    "import sqlite3\n",
    "\n",
    "conn = sqlite3.connect('kpp.db')\n",
    "\n",
    "db_pure.to_sql('pure', conn, if_exists='replace', index=False)"
   ]
  },
  {
   "cell_type": "code",
   "execution_count": 30,
   "metadata": {},
   "outputs": [
    {
     "data": {
      "text/plain": [
       "5"
      ]
     },
     "execution_count": 30,
     "metadata": {},
     "output_type": "execute_result"
    }
   ],
   "source": [
    "conn2 = sqlite3.connect('kpp_limit_5.db')\n",
    "db_pure[:5].to_sql('pure', conn2, if_exists='replace', index=False)"
   ]
  },
  {
   "cell_type": "code",
   "execution_count": 33,
   "metadata": {},
   "outputs": [],
   "source": [
    "all_chars = []\n",
    "for _, line in df.iterrows():\n",
    "    line_dict = line.to_dict()\n",
    "    chars = line_dict['chars']\n",
    "    new_char = [{**x, 'q_nr': line_dict['question_nr']} for x in chars]\n",
    "    all_chars.extend(new_char)"
   ]
  },
  {
   "cell_type": "code",
   "execution_count": 44,
   "metadata": {},
   "outputs": [
    {
     "data": {
      "text/plain": [
       "({'ABCDEE+Calibri', 'ABCDEE+Calibri,Bold', 'ABCDEE+Calibri,Italic'},\n",
       " '\"%(),-./0123456789:;<>?ABCDEGHIJKLMNOPRSTUVWZabcdefghijklmnoprstuwxyz°óąćęłńśźż„')"
      ]
     },
     "execution_count": 44,
     "metadata": {},
     "output_type": "execute_result"
    }
   ],
   "source": [
    "posible_fonts = {x['fontname'] for x in all_chars}\n",
    "posible_chars = set([x['text'] for x in all_chars])\n",
    "\n",
    "posible_fonts, ''.join(sorted(list(posible_chars)))"
   ]
  },
  {
   "cell_type": "markdown",
   "metadata": {},
   "source": [
    "#TODO\n",
    "Export oneliners"
   ]
  }
 ],
 "metadata": {
  "kernelspec": {
   "display_name": ".venv",
   "language": "python",
   "name": "python3"
  },
  "language_info": {
   "codemirror_mode": {
    "name": "ipython",
    "version": 3
   },
   "file_extension": ".py",
   "mimetype": "text/x-python",
   "name": "python",
   "nbconvert_exporter": "python",
   "pygments_lexer": "ipython3",
   "version": "3.9.13"
  }
 },
 "nbformat": 4,
 "nbformat_minor": 2
}
